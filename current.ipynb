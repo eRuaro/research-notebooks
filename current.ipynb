{
 "cells": [
  {
   "cell_type": "code",
   "execution_count": 1,
   "metadata": {},
   "outputs": [
    {
     "name": "stdout",
     "output_type": "stream",
     "text": [
      "{\n",
      "    \"location\": {\n",
      "        \"name\": \"Makati\",\n",
      "        \"region\": \"Manila\",\n",
      "        \"country\": \"Philippines\",\n",
      "        \"lat\": 14.57,\n",
      "        \"lon\": 121.03,\n",
      "        \"tz_id\": \"Asia/Manila\",\n",
      "        \"localtime_epoch\": 1639552759,\n",
      "        \"localtime\": \"2021-12-15 15:19\"\n",
      "    },\n",
      "    \"current\": {\n",
      "        \"last_updated_epoch\": 1639552500,\n",
      "        \"last_updated\": \"2021-12-15 15:15\",\n",
      "        \"temp_c\": 30.0,\n",
      "        \"is_day\": 1,\n",
      "        \"condition\": {\n",
      "            \"text\": \"Partly cloudy\"\n",
      "        },\n",
      "        \"wind_kph\": 9.0,\n",
      "        \"wind_degree\": 300,\n",
      "        \"wind_dir\": \"WNW\",\n",
      "        \"pressure_mb\": 1009.0,\n",
      "        \"pressure_in\": 29.8,\n",
      "        \"precip_mm\": 0.0,\n",
      "        \"humidity\": 62,\n",
      "        \"cloud\": 75,\n",
      "        \"feelslike_c\": 34.4,\n",
      "        \"uv\": 6.0\n",
      "    }\n",
      "}\n"
     ]
    }
   ],
   "source": [
    "import arrow\n",
    "import requests\n",
    "import json\n",
    "\n",
    "weatherapi_key = '995333b3c1334b7da0104356212711'\n",
    "\n",
    "response = requests.get(\n",
    "    'https://api.weatherapi.com/v1/current.json',\n",
    "    params={\n",
    "        'key': weatherapi_key,\n",
    "        'q': 'Makati',\n",
    "    },\n",
    ")\n",
    "\n",
    "json_data = json.dumps(response.json(), indent=4)\n",
    "print(json_data)"
   ]
  },
  {
   "cell_type": "code",
   "execution_count": 35,
   "metadata": {},
   "outputs": [
    {
     "data": {
      "text/plain": [
       "{'last_updated_epoch': 1639552500,\n",
       " 'last_updated': '2021-12-15 15:15',\n",
       " 'temp_c': 30.0,\n",
       " 'is_day': 1,\n",
       " 'condition': {'text': 'Partly cloudy'},\n",
       " 'wind_kph': 9.0,\n",
       " 'wind_degree': 300,\n",
       " 'wind_dir': 'WNW',\n",
       " 'pressure_mb': 1009.0,\n",
       " 'pressure_in': 29.8,\n",
       " 'precip_mm': 0.0,\n",
       " 'humidity': 62,\n",
       " 'cloud': 75,\n",
       " 'feelslike_c': 34.4,\n",
       " 'uv': 6.0}"
      ]
     },
     "execution_count": 35,
     "metadata": {},
     "output_type": "execute_result"
    }
   ],
   "source": [
    "data = response.json()['current']\n",
    "data"
   ]
  },
  {
   "cell_type": "code",
   "execution_count": 25,
   "metadata": {},
   "outputs": [
    {
     "name": "stdout",
     "output_type": "stream",
     "text": [
      "{\n",
      "    \"hours\": [\n",
      "        {\n",
      "            \"humidity\": {\n",
      "                \"noaa\": 65.5,\n",
      "                \"sg\": 65.5\n",
      "            },\n",
      "            \"precipitation\": {\n",
      "                \"noaa\": 0.02,\n",
      "                \"sg\": 0.02\n",
      "            },\n",
      "            \"pressure\": {\n",
      "                \"noaa\": 1009.59,\n",
      "                \"sg\": 1009.59\n",
      "            },\n",
      "            \"time\": \"2021-12-15T07:00:00+00:00\"\n",
      "        }\n",
      "    ],\n",
      "    \"meta\": {\n",
      "        \"cost\": 1,\n",
      "        \"dailyQuota\": 50,\n",
      "        \"end\": \"2021-12-15 07:42\",\n",
      "        \"lat\": 14.57,\n",
      "        \"lng\": 121.03,\n",
      "        \"params\": [\n",
      "            \"humidity\",\n",
      "            \"precipitation\",\n",
      "            \"pressure\"\n",
      "        ],\n",
      "        \"requestCount\": 14,\n",
      "        \"start\": \"2021-12-15 07:00\"\n",
      "    }\n",
      "}\n"
     ]
    }
   ],
   "source": [
    "stormglass_api = '51336722-4f14-11ec-b247-0242ac130002-513367c2-4f14-11ec-b247-0242ac130002'\n",
    "params = [\n",
    "    'humidity',\n",
    "    'precipitation', \n",
    "    'pressure',\n",
    "]\n",
    "\n",
    "start = arrow.now()\n",
    "\n",
    "stormglass_response = requests.get(\n",
    "    'https://api.stormglass.io/v2/weather/point',\n",
    "    params={\n",
    "        'lat': 14.57,\n",
    "        'lng': 121.03,\n",
    "        'params': ','.join(params), \n",
    "        'start': start.timestamp(), #.timestamp(), # convert to UTC\n",
    "        'end': start.timestamp() #.timestamp()\n",
    "    },\n",
    "    headers={\n",
    "        'Authorization': stormglass_api\n",
    "    }\n",
    ")\n",
    "\n",
    "stormglass_data = json.dumps(stormglass_response.json(), indent=4)\n",
    "print(stormglass_data)"
   ]
  },
  {
   "cell_type": "code",
   "execution_count": 34,
   "metadata": {},
   "outputs": [
    {
     "data": {
      "text/plain": [
       "('2021-12-15 15:51', <Arrow [2021-12-15T15:51:23.515834+08:00]>)"
      ]
     },
     "execution_count": 34,
     "metadata": {},
     "output_type": "execute_result"
    }
   ],
   "source": [
    "current_date = arrow.now().format(\"YYYY-MM-DD HH:mm\")\n",
    "current_date, arrow.now()"
   ]
  },
  {
   "cell_type": "code",
   "execution_count": 31,
   "metadata": {},
   "outputs": [],
   "source": [
    "stormglass = stormglass_response.json()['hours'][0]"
   ]
  },
  {
   "cell_type": "code",
   "execution_count": 33,
   "metadata": {},
   "outputs": [
    {
     "data": {
      "text/plain": [
       "65.5"
      ]
     },
     "execution_count": 33,
     "metadata": {},
     "output_type": "execute_result"
    }
   ],
   "source": [
    "stormglass['humidity']['noaa']"
   ]
  },
  {
   "cell_type": "code",
   "execution_count": null,
   "metadata": {},
   "outputs": [],
   "source": []
  }
 ],
 "metadata": {
  "interpreter": {
   "hash": "916dbcbb3f70747c44a77c7bcd40155683ae19c65e1c03b4aa3499c5328201f1"
  },
  "kernelspec": {
   "display_name": "Python 3.8.10 64-bit",
   "language": "python",
   "name": "python3"
  },
  "language_info": {
   "codemirror_mode": {
    "name": "ipython",
    "version": 3
   },
   "file_extension": ".py",
   "mimetype": "text/x-python",
   "name": "python",
   "nbconvert_exporter": "python",
   "pygments_lexer": "ipython3",
   "version": "3.8.10"
  },
  "orig_nbformat": 4
 },
 "nbformat": 4,
 "nbformat_minor": 2
}
